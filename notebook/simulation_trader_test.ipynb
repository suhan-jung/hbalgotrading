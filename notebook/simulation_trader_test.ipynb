{
 "cells": [
  {
   "cell_type": "code",
   "execution_count": null,
   "id": "municipal-classic",
   "metadata": {},
   "outputs": [],
   "source": [
    "import os\n",
    "os.chdir('../')"
   ]
  },
  {
   "cell_type": "markdown",
   "id": "existing-authorization",
   "metadata": {},
   "source": [
    "### 현재 디렉토리가 smtm 프로젝트 root로 설정되었는지 확인"
   ]
  },
  {
   "cell_type": "code",
   "execution_count": null,
   "id": "apart-eclipse",
   "metadata": {},
   "outputs": [],
   "source": [
    "print(\"현재 디렉토리 \" , os.getcwd())"
   ]
  },
  {
   "cell_type": "markdown",
   "id": "drawn-layout",
   "metadata": {},
   "source": [
    "#### 초기화 - 기간, 예산"
   ]
  },
  {
   "cell_type": "code",
   "execution_count": null,
   "id": "virgin-ballet",
   "metadata": {},
   "outputs": [],
   "source": [
    "from hbalgo import SimulationTrader\n",
    "trader = SimulationTrader()\n",
    "end_date = \"2022-11-09T16:00:00\"\n",
    "trader.initialize_simulation(end=end_date, count=50, budget=50000000000)"
   ]
  },
  {
   "cell_type": "markdown",
   "id": "exact-hydrogen",
   "metadata": {},
   "source": [
    "#### request는 테스트 하고 싶은 내용으로 생성해서 요청해 보고 결과를 출력창에서 확인해보자"
   ]
  },
  {
   "cell_type": "code",
   "execution_count": null,
   "id": "seventh-latex",
   "metadata": {},
   "outputs": [],
   "source": [
    "def test():\n",
    "    request = [\n",
    "        {\n",
    "            \"id\": \"request_1\",\n",
    "            \"type\": \"buy\",\n",
    "            \"price\": 106.92,\n",
    "            \"amount\": 5,\n",
    "            \"date_time\": \"2022-11-09T15:15:00\",\n",
    "        }\n",
    "    ]\n",
    "    result = None\n",
    "\n",
    "    def send_request_callback(callback_result):\n",
    "        nonlocal result\n",
    "        result = callback_result\n",
    "\n",
    "    trader.send_request(request, send_request_callback)\n",
    "    return result # 결과를 반환해서 출력창에 출력되도록 한다\n",
    "test() "
   ]
  },
  {
   "cell_type": "markdown",
   "id": "arabic-rolling",
   "metadata": {},
   "source": [
    "#### 현재 계좌 정보를 조회한다"
   ]
  },
  {
   "cell_type": "code",
   "execution_count": null,
   "id": "about-cruise",
   "metadata": {},
   "outputs": [],
   "source": [
    "trader.get_account_info() # 반환값이 출력창에 출력된다"
   ]
  },
  {
   "cell_type": "code",
   "execution_count": null,
   "id": "complicated-sitting",
   "metadata": {},
   "outputs": [],
   "source": []
  }
 ],
 "metadata": {
  "kernelspec": {
   "display_name": "Python 3.10.4 ('smtm')",
   "language": "python",
   "name": "python3"
  },
  "language_info": {
   "codemirror_mode": {
    "name": "ipython",
    "version": 3
   },
   "file_extension": ".py",
   "mimetype": "text/x-python",
   "name": "python",
   "nbconvert_exporter": "python",
   "pygments_lexer": "ipython3",
   "version": "3.10.4"
  },
  "vscode": {
   "interpreter": {
    "hash": "9226d66c7dd53d9d6b36eba80b412e4a0dd5502575698f03b7bd215e602ec127"
   }
  }
 },
 "nbformat": 4,
 "nbformat_minor": 5
}
