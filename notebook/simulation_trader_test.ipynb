{
 "cells": [
  {
   "cell_type": "code",
   "execution_count": 1,
   "id": "municipal-classic",
   "metadata": {},
   "outputs": [],
   "source": [
    "import os\n",
    "os.chdir('../')"
   ]
  },
  {
   "cell_type": "markdown",
   "id": "existing-authorization",
   "metadata": {},
   "source": [
    "### 현재 디렉토리가 smtm 프로젝트 root로 설정되었는지 확인"
   ]
  },
  {
   "cell_type": "code",
   "execution_count": 2,
   "id": "apart-eclipse",
   "metadata": {},
   "outputs": [
    {
     "name": "stdout",
     "output_type": "stream",
     "text": [
      "현재 디렉토리  d:\\MyProject\\hbalgotrading\n"
     ]
    }
   ],
   "source": [
    "print(\"현재 디렉토리 \" , os.getcwd())"
   ]
  },
  {
   "cell_type": "markdown",
   "id": "drawn-layout",
   "metadata": {},
   "source": [
    "#### 초기화 - 기간, 예산"
   ]
  },
  {
   "cell_type": "code",
   "execution_count": 3,
   "id": "virgin-ballet",
   "metadata": {},
   "outputs": [
    {
     "name": "stderr",
     "output_type": "stream",
     "text": [
      "2022-11-15 14:06:58,437 DEBUG        VirtualMarket - Virtual Market is initialized end: 2022-11-09T16:00:00, count: 50\n",
      "2022-11-15 14:06:58,437 P[25244] [MainThread 25180] Virtual Market is initialized end: 2022-11-09T16:00:00, count: 50\n"
     ]
    }
   ],
   "source": [
    "from hbalgo import SimulationTrader\n",
    "trader = SimulationTrader()\n",
    "end_date = \"2022-11-09T16:00:00\"\n",
    "trader.initialize_simulation(end=end_date, count=50, budget=50000000000)"
   ]
  },
  {
   "cell_type": "markdown",
   "id": "exact-hydrogen",
   "metadata": {},
   "source": [
    "#### request는 테스트 하고 싶은 내용으로 생성해서 요청해 보고 결과를 출력창에서 확인해보자"
   ]
  },
  {
   "cell_type": "code",
   "execution_count": 4,
   "id": "seventh-latex",
   "metadata": {},
   "outputs": [
    {
     "name": "stderr",
     "output_type": "stream",
     "text": [
      "2022-11-15 14:06:59,969 DEBUG        VirtualMarket - [Balance] from 50000000000\n",
      "2022-11-15 14:06:59,969 P[25244] [MainThread 25180] [Balance] from 50000000000\n",
      "2022-11-15 14:06:59,971 DEBUG        VirtualMarket - [Balance] - buy_asset_value 320760000.0\n",
      "2022-11-15 14:06:59,971 P[25244] [MainThread 25180] [Balance] - buy_asset_value 320760000.0\n",
      "2022-11-15 14:06:59,973 DEBUG        VirtualMarket - [Balance] - commission 2400\n",
      "2022-11-15 14:06:59,973 P[25244] [MainThread 25180] [Balance] - commission 2400\n",
      "2022-11-15 14:06:59,975 DEBUG        VirtualMarket - [Balance] to 49679237600\n",
      "2022-11-15 14:06:59,975 P[25244] [MainThread 25180] [Balance] to 49679237600\n"
     ]
    },
    {
     "data": {
      "text/plain": [
       "{'request': {'id': 'request_1',\n",
       "  'type': 'buy',\n",
       "  'price': 106.92,\n",
       "  'amount': 3,\n",
       "  'date_time': '2022-11-09T15:15:00'},\n",
       " 'type': 'buy',\n",
       " 'price': 106.92,\n",
       " 'amount': 3,\n",
       " 'msg': 'success',\n",
       " 'balance': 49679237600,\n",
       " 'state': 'done',\n",
       " 'date_time': '2022-11-09T14:47:00'}"
      ]
     },
     "execution_count": 4,
     "metadata": {},
     "output_type": "execute_result"
    }
   ],
   "source": [
    "def test():\n",
    "    request = [\n",
    "        {\n",
    "            \"id\": \"request_1\",\n",
    "            \"type\": \"buy\",\n",
    "            \"price\": 106.92,\n",
    "            \"amount\": 3,\n",
    "            \"date_time\": \"2022-11-09T15:15:00\",\n",
    "        }\n",
    "    ]\n",
    "    result = None\n",
    "\n",
    "    def send_request_callback(callback_result):\n",
    "        nonlocal result\n",
    "        result = callback_result\n",
    "\n",
    "    trader.send_request(request, send_request_callback)\n",
    "    return result # 결과를 반환해서 출력창에 출력되도록 한다\n",
    "test() "
   ]
  },
  {
   "cell_type": "markdown",
   "id": "arabic-rolling",
   "metadata": {},
   "source": [
    "#### 현재 계좌 정보를 조회한다"
   ]
  },
  {
   "cell_type": "code",
   "execution_count": 5,
   "id": "about-cruise",
   "metadata": {},
   "outputs": [
    {
     "name": "stderr",
     "output_type": "stream",
     "text": [
      "2022-11-15 14:07:14,947 ERROR        VirtualMarket - invalid trading data 'market'\n",
      "2022-11-15 14:07:14,947 P[25244] [MainThread 25180] invalid trading data 'market'\n"
     ]
    }
   ],
   "source": [
    "trader.get_account_info() # 반환값이 출력창에 출력된다"
   ]
  },
  {
   "cell_type": "code",
   "execution_count": null,
   "id": "complicated-sitting",
   "metadata": {},
   "outputs": [],
   "source": []
  }
 ],
 "metadata": {
  "kernelspec": {
   "display_name": "Python 3.10.4 ('smtm')",
   "language": "python",
   "name": "python3"
  },
  "language_info": {
   "codemirror_mode": {
    "name": "ipython",
    "version": 3
   },
   "file_extension": ".py",
   "mimetype": "text/x-python",
   "name": "python",
   "nbconvert_exporter": "python",
   "pygments_lexer": "ipython3",
   "version": "3.10.4"
  },
  "vscode": {
   "interpreter": {
    "hash": "9226d66c7dd53d9d6b36eba80b412e4a0dd5502575698f03b7bd215e602ec127"
   }
  }
 },
 "nbformat": 4,
 "nbformat_minor": 5
}
