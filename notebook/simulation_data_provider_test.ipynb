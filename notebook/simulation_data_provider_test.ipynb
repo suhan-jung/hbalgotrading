{
 "cells": [
  {
   "cell_type": "code",
   "execution_count": 1,
   "metadata": {},
   "outputs": [
    {
     "name": "stdout",
     "output_type": "stream",
     "text": [
      "현재 디렉토리  d:\\MyProject\\hbalgotrading\n"
     ]
    }
   ],
   "source": [
    "import os\n",
    "os.chdir('../')\n",
    "print(\"현재 디렉토리 \" , os.getcwd())"
   ]
  },
  {
   "cell_type": "code",
   "execution_count": 2,
   "metadata": {},
   "outputs": [],
   "source": [
    "from datetime import date\n",
    "from hbalgo import SimulationDataProvider"
   ]
  },
  {
   "cell_type": "code",
   "execution_count": 5,
   "metadata": {},
   "outputs": [
    {
     "name": "stderr",
     "output_type": "stream",
     "text": [
      "2022-11-15 13:40:48,087  INFO SimulationDataProvid - data is updated from server # end: 2022-11-09T16:00:00, count: 10\n",
      "2022-11-15 13:40:48,087 P[23060] [MainThread 3168] data is updated from server # end: 2022-11-09T16:00:00, count: 10\n"
     ]
    }
   ],
   "source": [
    "dp = SimulationDataProvider()\n",
    "dp.initialize_simulation(\"2022-11-09T16:00:00\", 10)"
   ]
  },
  {
   "cell_type": "code",
   "execution_count": 6,
   "metadata": {},
   "outputs": [
    {
     "name": "stderr",
     "output_type": "stream",
     "text": [
      "2022-11-15 13:40:49,115  INFO SimulationDataProvid - [DATA] @ 2022-11-09T15:27:00\n",
      "2022-11-15 13:40:49,115 P[23060] [MainThread 3168] [DATA] @ 2022-11-09T15:27:00\n"
     ]
    },
    {
     "data": {
      "text/plain": [
       "{'market': 'LKTB',\n",
       " 'date_time': '2022-11-09T15:27:00',\n",
       " 'opening_price': 106.73,\n",
       " 'high_price': 106.75,\n",
       " 'low_price': 106.69,\n",
       " 'closing_price': 106.71,\n",
       " 'acc_price': 0,\n",
       " 'acc_volume': 311}"
      ]
     },
     "execution_count": 6,
     "metadata": {},
     "output_type": "execute_result"
    }
   ],
   "source": [
    "dp.get_info()"
   ]
  },
  {
   "cell_type": "code",
   "execution_count": null,
   "metadata": {},
   "outputs": [],
   "source": []
  }
 ],
 "metadata": {
  "kernelspec": {
   "display_name": "Python 3.10.4 ('smtm')",
   "language": "python",
   "name": "python3"
  },
  "language_info": {
   "codemirror_mode": {
    "name": "ipython",
    "version": 3
   },
   "file_extension": ".py",
   "mimetype": "text/x-python",
   "name": "python",
   "nbconvert_exporter": "python",
   "pygments_lexer": "ipython3",
   "version": "3.10.4"
  },
  "orig_nbformat": 4,
  "vscode": {
   "interpreter": {
    "hash": "9226d66c7dd53d9d6b36eba80b412e4a0dd5502575698f03b7bd215e602ec127"
   }
  }
 },
 "nbformat": 4,
 "nbformat_minor": 2
}
