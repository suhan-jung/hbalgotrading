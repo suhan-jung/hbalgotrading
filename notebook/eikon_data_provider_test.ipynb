{
 "cells": [
  {
   "cell_type": "code",
   "execution_count": 1,
   "id": "worse-compiler",
   "metadata": {},
   "outputs": [],
   "source": [
    "import os\n",
    "os.chdir('../')"
   ]
  },
  {
   "cell_type": "markdown",
   "id": "armed-racing",
   "metadata": {},
   "source": [
    "### 현재 디렉토리가 smtm 프로젝트 root로 설정되었는지 확인\n",
    "분석 결과 파일이 저장될 output 폴더 생성"
   ]
  },
  {
   "cell_type": "code",
   "execution_count": 2,
   "id": "nominated-allowance",
   "metadata": {},
   "outputs": [
    {
     "name": "stdout",
     "output_type": "stream",
     "text": [
      "현재 디렉토리  d:\\MyProject\\hbalgotrading\n"
     ]
    }
   ],
   "source": [
    "print(\"현재 디렉토리 \" , os.getcwd())"
   ]
  },
  {
   "cell_type": "code",
   "execution_count": 3,
   "id": "regular-bulletin",
   "metadata": {},
   "outputs": [],
   "source": [
    "from hbalgo import EikonDataProvider"
   ]
  },
  {
   "cell_type": "code",
   "execution_count": 4,
   "id": "metallic-canal",
   "metadata": {},
   "outputs": [],
   "source": [
    "dp = EikonDataProvider(\"LKTB\")"
   ]
  },
  {
   "cell_type": "code",
   "execution_count": 5,
   "id": "dynamic-psychiatry",
   "metadata": {},
   "outputs": [
    {
     "data": {
      "text/plain": [
       "{'market': 'LKTB',\n",
       " 'date_time': '2022-11-11T15:46:00',\n",
       " 'opening_price': 109.0,\n",
       " 'high_price': 109.0,\n",
       " 'low_price': 109.0,\n",
       " 'closing_price': 109.0,\n",
       " 'acc_price': 0.0,\n",
       " 'acc_volume': 1807.0}"
      ]
     },
     "execution_count": 5,
     "metadata": {},
     "output_type": "execute_result"
    }
   ],
   "source": [
    "dp.get_info()"
   ]
  },
  {
   "cell_type": "code",
   "execution_count": null,
   "id": "senior-ancient",
   "metadata": {},
   "outputs": [],
   "source": []
  }
 ],
 "metadata": {
  "kernelspec": {
   "display_name": "Python 3.10.4 ('smtm')",
   "language": "python",
   "name": "python3"
  },
  "language_info": {
   "codemirror_mode": {
    "name": "ipython",
    "version": 3
   },
   "file_extension": ".py",
   "mimetype": "text/x-python",
   "name": "python",
   "nbconvert_exporter": "python",
   "pygments_lexer": "ipython3",
   "version": "3.10.4"
  },
  "vscode": {
   "interpreter": {
    "hash": "9226d66c7dd53d9d6b36eba80b412e4a0dd5502575698f03b7bd215e602ec127"
   }
  }
 },
 "nbformat": 4,
 "nbformat_minor": 5
}
