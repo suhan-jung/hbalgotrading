{
 "cells": [
  {
   "cell_type": "code",
   "execution_count": 1,
   "id": "municipal-classic",
   "metadata": {},
   "outputs": [],
   "source": [
    "import os\n",
    "os.chdir('../')"
   ]
  },
  {
   "cell_type": "markdown",
   "id": "existing-authorization",
   "metadata": {},
   "source": [
    "### 현재 디렉토리가 smtm 프로젝트 root로 설정되었는지 확인"
   ]
  },
  {
   "cell_type": "code",
   "execution_count": 2,
   "id": "apart-eclipse",
   "metadata": {},
   "outputs": [
    {
     "name": "stdout",
     "output_type": "stream",
     "text": [
      "현재 디렉토리  d:\\MyProject\\hbalgotrading\n"
     ]
    }
   ],
   "source": [
    "print(\"현재 디렉토리 \" , os.getcwd())"
   ]
  },
  {
   "cell_type": "markdown",
   "id": "eight-differential",
   "metadata": {},
   "source": [
    "#### 시뮬레이션에 사용될 객체 생성 및 초기화"
   ]
  },
  {
   "cell_type": "code",
   "execution_count": 4,
   "id": "scheduled-smile",
   "metadata": {},
   "outputs": [
    {
     "name": "stderr",
     "output_type": "stream",
     "text": [
      "2022-11-24 15:31:30,613 P[25964] [MainThread 20464] end date (2020-04-29T22:30:00) should be after than start date (2022-08-16T15:31:30.612731+09:00)\n",
      "2022-11-24 15:31:30,613 ERROR SimulationDataProvid - Parameter type or value is wrong\n",
      "2022-11-24 15:31:30,613 P[25964] [MainThread 20464] Parameter type or value is wrong\n"
     ]
    },
    {
     "ename": "UserWarning",
     "evalue": "Fail get data from sever",
     "output_type": "error",
     "traceback": [
      "\u001b[1;31m---------------------------------------------------------------------------\u001b[0m",
      "\u001b[1;31mValueError\u001b[0m                                Traceback (most recent call last)",
      "File \u001b[1;32md:\\MyProject\\hbalgotrading\\hbalgo\\simulation_data_provider.py:49\u001b[0m, in \u001b[0;36mSimulationDataProvider.initialize_simulation\u001b[1;34m(self, end, count)\u001b[0m\n\u001b[0;32m     48\u001b[0m ek\u001b[39m.\u001b[39mset_app_key(\u001b[39mself\u001b[39m\u001b[39m.\u001b[39mAPP_KEY)\n\u001b[1;32m---> 49\u001b[0m response \u001b[39m=\u001b[39m ek\u001b[39m.\u001b[39mget_timeseries(\u001b[39m*\u001b[39m\u001b[39m*\u001b[39mparams)\n\u001b[0;32m     50\u001b[0m \u001b[39m# ek.timeseries 결과의 DatetimeIndex 는 naive UTC 기준이므로 \u001b[39;00m\n",
      "File \u001b[1;32mc:\\Users\\suhan\\anaconda3\\envs\\smtm\\lib\\site-packages\\eikon\\time_series.py:153\u001b[0m, in \u001b[0;36mget_timeseries\u001b[1;34m(rics, fields, start_date, end_date, interval, count, calendar, corax, normalize, raw_output, debug)\u001b[0m\n\u001b[0;32m    152\u001b[0m     logger\u001b[39m.\u001b[39merror(error_msg)\n\u001b[1;32m--> 153\u001b[0m     \u001b[39mraise\u001b[39;00m \u001b[39mValueError\u001b[39;00m(error_msg)\n\u001b[0;32m    155\u001b[0m payload \u001b[39m=\u001b[39m {\u001b[39m'\u001b[39m\u001b[39mrics\u001b[39m\u001b[39m'\u001b[39m: rics, \u001b[39m'\u001b[39m\u001b[39mfields\u001b[39m\u001b[39m'\u001b[39m: fields, \u001b[39m'\u001b[39m\u001b[39minterval\u001b[39m\u001b[39m'\u001b[39m: interval, \u001b[39m'\u001b[39m\u001b[39mstartdate\u001b[39m\u001b[39m'\u001b[39m: start_date, \u001b[39m'\u001b[39m\u001b[39menddate\u001b[39m\u001b[39m'\u001b[39m: end_date}\n",
      "\u001b[1;31mValueError\u001b[0m: end date (2020-04-29T22:30:00) should be after than start date (2022-08-16T15:31:30.612731+09:00)",
      "\nThe above exception was the direct cause of the following exception:\n",
      "\u001b[1;31mUserWarning\u001b[0m                               Traceback (most recent call last)",
      "\u001b[1;32md:\\MyProject\\hbalgotrading\\notebook\\simulation_operator_test.ipynb Cell 5\u001b[0m in \u001b[0;36m<cell line: 22>\u001b[1;34m()\u001b[0m\n\u001b[0;32m     <a href='vscode-notebook-cell:/d%3A/MyProject/hbalgotrading/notebook/simulation_operator_test.ipynb#W4sZmlsZQ%3D%3D?line=18'>19</a>\u001b[0m end_str \u001b[39m=\u001b[39m end_date\u001b[39m.\u001b[39mreplace(\u001b[39m\"\u001b[39m\u001b[39m \u001b[39m\u001b[39m\"\u001b[39m, \u001b[39m\"\u001b[39m\u001b[39mT\u001b[39m\u001b[39m\"\u001b[39m)\n\u001b[0;32m     <a href='vscode-notebook-cell:/d%3A/MyProject/hbalgotrading/notebook/simulation_operator_test.ipynb#W4sZmlsZQ%3D%3D?line=20'>21</a>\u001b[0m data_provider \u001b[39m=\u001b[39m SimulationDataProvider()\n\u001b[1;32m---> <a href='vscode-notebook-cell:/d%3A/MyProject/hbalgotrading/notebook/simulation_operator_test.ipynb#W4sZmlsZQ%3D%3D?line=21'>22</a>\u001b[0m data_provider\u001b[39m.\u001b[39;49minitialize_simulation(end\u001b[39m=\u001b[39;49mend_str, count\u001b[39m=\u001b[39;49mcount)\n\u001b[0;32m     <a href='vscode-notebook-cell:/d%3A/MyProject/hbalgotrading/notebook/simulation_operator_test.ipynb#W4sZmlsZQ%3D%3D?line=22'>23</a>\u001b[0m trader \u001b[39m=\u001b[39m SimulationTrader()\n\u001b[0;32m     <a href='vscode-notebook-cell:/d%3A/MyProject/hbalgotrading/notebook/simulation_operator_test.ipynb#W4sZmlsZQ%3D%3D?line=23'>24</a>\u001b[0m trader\u001b[39m.\u001b[39minitialize_simulation(end\u001b[39m=\u001b[39mend_str, count\u001b[39m=\u001b[39mcount, budget\u001b[39m=\u001b[39mbudget)\n",
      "File \u001b[1;32md:\\MyProject\\hbalgotrading\\hbalgo\\simulation_data_provider.py:57\u001b[0m, in \u001b[0;36mSimulationDataProvider.initialize_simulation\u001b[1;34m(self, end, count)\u001b[0m\n\u001b[0;32m     55\u001b[0m \u001b[39mexcept\u001b[39;00m \u001b[39mValueError\u001b[39;00m \u001b[39mas\u001b[39;00m error:\n\u001b[0;32m     56\u001b[0m     \u001b[39mself\u001b[39m\u001b[39m.\u001b[39mlogger\u001b[39m.\u001b[39merror(\u001b[39m\"\u001b[39m\u001b[39mParameter type or value is wrong\u001b[39m\u001b[39m\"\u001b[39m)\n\u001b[1;32m---> 57\u001b[0m     \u001b[39mraise\u001b[39;00m \u001b[39mUserWarning\u001b[39;00m(\u001b[39m\"\u001b[39m\u001b[39mFail get data from sever\u001b[39m\u001b[39m\"\u001b[39m) \u001b[39mfrom\u001b[39;00m \u001b[39merror\u001b[39;00m\n\u001b[0;32m     58\u001b[0m \u001b[39mexcept\u001b[39;00m \u001b[39mException\u001b[39;00m \u001b[39mas\u001b[39;00m error:\n\u001b[0;32m     59\u001b[0m     \u001b[39mself\u001b[39m\u001b[39m.\u001b[39mlogger\u001b[39m.\u001b[39merror(error)\n",
      "\u001b[1;31mUserWarning\u001b[0m: Fail get data from sever"
     ]
    }
   ],
   "source": [
    "import time\n",
    "from hbalgo import (\n",
    "    SimulationDataProvider,\n",
    "    SimulationOperator,\n",
    "    SimulationTrader,\n",
    "    StrategyBuyAndHold,\n",
    "    # StrategySma0,\n",
    "    Analyzer,\n",
    "    # LogManager,\n",
    ")\n",
    "\n",
    "strategy = StrategyBuyAndHold()\n",
    "strategy.is_simulation = True\n",
    "end_date = \"2022-11-22T07:30:00\"\n",
    "count = 100\n",
    "budget = 50000000000\n",
    "interval = 0.1\n",
    "time_limit = 15\n",
    "end_str = end_date.replace(\" \", \"T\")\n",
    "\n",
    "data_provider = SimulationDataProvider()\n",
    "data_provider.initialize_simulation(end=end_str, count=count)\n",
    "trader = SimulationTrader()\n",
    "trader.initialize_simulation(end=end_str, count=count, budget=budget)\n",
    "analyzer = Analyzer()\n",
    "analyzer.is_simulation = True"
   ]
  },
  {
   "cell_type": "markdown",
   "id": "tribal-bench",
   "metadata": {},
   "source": [
    "#### SimulationOperator 객체 생성 및 초기화"
   ]
  },
  {
   "cell_type": "code",
   "execution_count": null,
   "id": "assured-session",
   "metadata": {},
   "outputs": [],
   "source": [
    "operator = SimulationOperator()\n",
    "operator.initialize(\n",
    "    data_provider,\n",
    "    strategy,\n",
    "    trader,\n",
    "    analyzer,\n",
    "    budget=budget,\n",
    ")\n",
    "operator.state"
   ]
  },
  {
   "cell_type": "markdown",
   "id": "developing-tourism",
   "metadata": {},
   "source": [
    "#### Simulation 간격 설정 및 자동 거래 시작"
   ]
  },
  {
   "cell_type": "code",
   "execution_count": null,
   "id": "saving-hierarchy",
   "metadata": {},
   "outputs": [],
   "source": [
    "operator.set_interval(interval)\n",
    "operator.start()"
   ]
  },
  {
   "cell_type": "markdown",
   "id": "similar-pixel",
   "metadata": {},
   "source": [
    "#### SimulationOperator 상태 확인"
   ]
  },
  {
   "cell_type": "code",
   "execution_count": null,
   "id": "median-ecology",
   "metadata": {},
   "outputs": [],
   "source": [
    "operator.state"
   ]
  },
  {
   "cell_type": "markdown",
   "id": "statutory-adjustment",
   "metadata": {},
   "source": [
    "#### Simulation 거래 결과 목록 출력"
   ]
  },
  {
   "cell_type": "code",
   "execution_count": null,
   "id": "complimentary-parking",
   "metadata": {},
   "outputs": [],
   "source": [
    "operator.get_trading_results()"
   ]
  },
  {
   "cell_type": "markdown",
   "id": "bizarre-chocolate",
   "metadata": {},
   "source": [
    "#### 시뮬레이션 수익률 보고서 출력"
   ]
  },
  {
   "cell_type": "code",
   "execution_count": null,
   "id": "polished-discrimination",
   "metadata": {},
   "outputs": [],
   "source": [
    "def callback(return_report):\n",
    "    print(return_report)\n",
    "\n",
    "operator.get_score(callback)"
   ]
  },
  {
   "cell_type": "code",
   "execution_count": null,
   "id": "bizarre-robinson",
   "metadata": {},
   "outputs": [],
   "source": []
  }
 ],
 "metadata": {
  "kernelspec": {
   "display_name": "Python 3.10.4 ('smtm')",
   "language": "python",
   "name": "python3"
  },
  "language_info": {
   "codemirror_mode": {
    "name": "ipython",
    "version": 3
   },
   "file_extension": ".py",
   "mimetype": "text/x-python",
   "name": "python",
   "nbconvert_exporter": "python",
   "pygments_lexer": "ipython3",
   "version": "3.10.4"
  },
  "vscode": {
   "interpreter": {
    "hash": "9226d66c7dd53d9d6b36eba80b412e4a0dd5502575698f03b7bd215e602ec127"
   }
  }
 },
 "nbformat": 4,
 "nbformat_minor": 5
}
