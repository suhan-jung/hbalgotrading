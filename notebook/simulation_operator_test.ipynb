{
 "cells": [
  {
   "cell_type": "code",
   "execution_count": null,
   "id": "municipal-classic",
   "metadata": {},
   "outputs": [],
   "source": [
    "import os\n",
    "os.chdir('../')"
   ]
  },
  {
   "cell_type": "markdown",
   "id": "existing-authorization",
   "metadata": {},
   "source": [
    "### 현재 디렉토리가 smtm 프로젝트 root로 설정되었는지 확인"
   ]
  },
  {
   "cell_type": "code",
   "execution_count": null,
   "id": "apart-eclipse",
   "metadata": {},
   "outputs": [],
   "source": [
    "print(\"현재 디렉토리 \" , os.getcwd())"
   ]
  },
  {
   "cell_type": "markdown",
   "id": "eight-differential",
   "metadata": {},
   "source": [
    "#### 시뮬레이션에 사용될 객체 생성 및 초기화"
   ]
  },
  {
   "cell_type": "code",
   "execution_count": null,
   "id": "scheduled-smile",
   "metadata": {},
   "outputs": [],
   "source": [
    "import time\n",
    "from hbalgo import (\n",
    "    SimulationDataProvider,\n",
    "    SimulationOperator,\n",
    "    SimulationTrader,\n",
    "    StrategyBuyAndHold,\n",
    "    # StrategySma0,\n",
    "    Analyzer,\n",
    "    # LogManager,\n",
    ")\n",
    "\n",
    "strategy = StrategyBuyAndHold()\n",
    "strategy.is_simulation = True\n",
    "end_date = \"2022-11-22T07:30:00\"\n",
    "count = 100\n",
    "budget = 50000000000\n",
    "interval = 0.1\n",
    "time_limit = 15\n",
    "end_str = end_date.replace(\" \", \"T\")\n",
    "\n",
    "data_provider = SimulationDataProvider()\n",
    "data_provider.initialize_simulation(end=end_str, count=count)\n",
    "trader = SimulationTrader()\n",
    "trader.initialize_simulation(end=end_str, count=count, budget=budget)\n",
    "analyzer = Analyzer()\n",
    "analyzer.is_simulation = True"
   ]
  },
  {
   "cell_type": "markdown",
   "id": "tribal-bench",
   "metadata": {},
   "source": [
    "#### SimulationOperator 객체 생성 및 초기화"
   ]
  },
  {
   "cell_type": "code",
   "execution_count": null,
   "id": "assured-session",
   "metadata": {},
   "outputs": [],
   "source": [
    "operator = SimulationOperator()\n",
    "operator.initialize(\n",
    "    data_provider,\n",
    "    strategy,\n",
    "    trader,\n",
    "    analyzer,\n",
    "    budget=budget,\n",
    ")\n",
    "operator.state"
   ]
  },
  {
   "cell_type": "markdown",
   "id": "developing-tourism",
   "metadata": {},
   "source": [
    "#### Simulation 간격 설정 및 자동 거래 시작"
   ]
  },
  {
   "cell_type": "code",
   "execution_count": null,
   "id": "saving-hierarchy",
   "metadata": {},
   "outputs": [],
   "source": [
    "operator.set_interval(interval)\n",
    "operator.start()"
   ]
  },
  {
   "cell_type": "markdown",
   "id": "similar-pixel",
   "metadata": {},
   "source": [
    "#### SimulationOperator 상태 확인"
   ]
  },
  {
   "cell_type": "code",
   "execution_count": null,
   "id": "median-ecology",
   "metadata": {},
   "outputs": [],
   "source": [
    "operator.state"
   ]
  },
  {
   "cell_type": "markdown",
   "id": "statutory-adjustment",
   "metadata": {},
   "source": [
    "#### Simulation 거래 결과 목록 출력"
   ]
  },
  {
   "cell_type": "code",
   "execution_count": null,
   "id": "complimentary-parking",
   "metadata": {},
   "outputs": [],
   "source": [
    "operator.get_trading_results()"
   ]
  },
  {
   "cell_type": "markdown",
   "id": "bizarre-chocolate",
   "metadata": {},
   "source": [
    "#### 시뮬레이션 수익률 보고서 출력"
   ]
  },
  {
   "cell_type": "code",
   "execution_count": null,
   "id": "polished-discrimination",
   "metadata": {},
   "outputs": [],
   "source": [
    "def callback(return_report):\n",
    "    print(return_report)\n",
    "\n",
    "operator.get_score(callback)"
   ]
  },
  {
   "cell_type": "code",
   "execution_count": null,
   "id": "bizarre-robinson",
   "metadata": {},
   "outputs": [],
   "source": []
  }
 ],
 "metadata": {
  "kernelspec": {
   "display_name": "Python 3.10.4 ('smtm')",
   "language": "python",
   "name": "python3"
  },
  "language_info": {
   "codemirror_mode": {
    "name": "ipython",
    "version": 3
   },
   "file_extension": ".py",
   "mimetype": "text/x-python",
   "name": "python",
   "nbconvert_exporter": "python",
   "pygments_lexer": "ipython3",
   "version": "3.10.4"
  },
  "vscode": {
   "interpreter": {
    "hash": "9226d66c7dd53d9d6b36eba80b412e4a0dd5502575698f03b7bd215e602ec127"
   }
  }
 },
 "nbformat": 4,
 "nbformat_minor": 5
}
