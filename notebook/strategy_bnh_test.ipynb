{
 "cells": [
  {
   "cell_type": "code",
   "execution_count": null,
   "id": "municipal-classic",
   "metadata": {},
   "outputs": [],
   "source": [
    "import os\n",
    "os.chdir('../')"
   ]
  },
  {
   "cell_type": "markdown",
   "id": "existing-authorization",
   "metadata": {},
   "source": [
    "### 현재 디렉토리가 smtm 프로젝트 root로 설정되었는지 확인"
   ]
  },
  {
   "cell_type": "code",
   "execution_count": null,
   "id": "apart-eclipse",
   "metadata": {},
   "outputs": [],
   "source": [
    "print(\"현재 디렉토리 \" , os.getcwd())"
   ]
  },
  {
   "cell_type": "code",
   "execution_count": null,
   "id": "virgin-ballet",
   "metadata": {},
   "outputs": [],
   "source": [
    "from hbalgo import StrategyBuyAndHold\n",
    "strategy = StrategyBuyAndHold()\n",
    "strategy.get_request() # 초기화 되지 않은 상태 - None"
   ]
  },
  {
   "cell_type": "markdown",
   "id": "drawn-layout",
   "metadata": {},
   "source": [
    "#### 초기화 - 예산, 최소 주문 금액"
   ]
  },
  {
   "cell_type": "code",
   "execution_count": null,
   "id": "executive-animation",
   "metadata": {},
   "outputs": [],
   "source": [
    "strategy.initialize(50000000000, 100000000)"
   ]
  },
  {
   "cell_type": "markdown",
   "id": "exact-hydrogen",
   "metadata": {},
   "source": [
    "거래 정보 입력 - 거래 요청 정보 생성 - 거래 결과 입력 순으로 진행되지만\n",
    "각 단계 정보와 순서를 변경해서 테스트 가능"
   ]
  },
  {
   "cell_type": "code",
   "execution_count": null,
   "id": "specified-empire",
   "metadata": {},
   "outputs": [],
   "source": [
    "# 거래 정보 입력\n",
    "strategy.update_trading_info(\n",
    "    {\n",
    "        'market': 'KTB',\n",
    "        'date_time': '2022-11-10T11:12:00',\n",
    "        'opening_price': 102.51,\n",
    "        'high_price': 102.51,\n",
    "        'low_price': 102.5,\n",
    "        'closing_price': 102.51,\n",
    "        'acc_price': 0.0,\n",
    "        'acc_volume': 689.0\n",
    "    }\n",
    ")"
   ]
  },
  {
   "cell_type": "markdown",
   "id": "arabic-rolling",
   "metadata": {},
   "source": [
    "#### 입력된 거래 정보를 확인하고 싶다면 멤버 변수를 출력해 보면된다"
   ]
  },
  {
   "cell_type": "code",
   "execution_count": null,
   "id": "neither-profile",
   "metadata": {},
   "outputs": [],
   "source": [
    "strategy.data[-1]"
   ]
  },
  {
   "cell_type": "markdown",
   "id": "funded-personality",
   "metadata": {},
   "source": [
    "#### 거래 요청 정보가 마지막 거래 정보의 closing_price 기준으로 buy 정보로 생성되는지 확인\n",
    "#### 거래 대금 총량이 초기 예산의 1/5 분량의 amount인지 확인\n",
    "#### requested 상태의 거래가 있을 경우 첫번째 거래 요청은 cancel 요청인지 확인"
   ]
  },
  {
   "cell_type": "code",
   "execution_count": null,
   "id": "chief-franchise",
   "metadata": {},
   "outputs": [],
   "source": [
    "# 거래 요청 정보 생성\n",
    "expected_request = {\n",
    "    'type': 'buy',\n",
    "    'price': 102.51,\n",
    "    'amount': 98.0,\n",
    "}\n",
    "request = strategy.get_request()\n",
    "last_id = request[0][\"id\"]\n",
    "request"
   ]
  },
  {
   "cell_type": "markdown",
   "id": "acquired-lyric",
   "metadata": {},
   "source": [
    "#### 앞서 생성된 거래 요청 정보의 결과를 생성해서 업데이트 했을때,\n",
    "#### 입력된 거래 결과에 따라 balance가 제대로 업데이트 되는지 확인"
   ]
  },
  {
   "cell_type": "code",
   "execution_count": null,
   "id": "egyptian-leave",
   "metadata": {},
   "outputs": [],
   "source": [
    "# 거래 결과 입력 - 정상 체결 됨\n",
    "strategy.update_result(\n",
    "    {\n",
    "        \"request\": {\n",
    "            \"id\": last_id,\n",
    "            \"type\": \"buy\",\n",
    "            \"price\": 102.51,\n",
    "            \"amount\": 98.0,\n",
    "            \"date_time\": \"2022-11-10T11:33:07\",\n",
    "        },\n",
    "        \"type\": \"buy\",\n",
    "        \"price\": 102.51,\n",
    "        \"amount\": 98.0,\n",
    "        \"msg\": \"success\",\n",
    "        \"balance\": 0,\n",
    "        \"state\": \"done\",\n",
    "        \"date_time\": \"2022-11-10T11:33:07\",\n",
    "    }\n",
    ")\n",
    "strategy.balance # 39821"
   ]
  },
  {
   "cell_type": "code",
   "execution_count": null,
   "id": "d9ed8b9d",
   "metadata": {},
   "outputs": [],
   "source": []
  }
 ],
 "metadata": {
  "kernelspec": {
   "display_name": "Python 3.10.4 ('smtm')",
   "language": "python",
   "name": "python3"
  },
  "language_info": {
   "codemirror_mode": {
    "name": "ipython",
    "version": 3
   },
   "file_extension": ".py",
   "mimetype": "text/x-python",
   "name": "python",
   "nbconvert_exporter": "python",
   "pygments_lexer": "ipython3",
   "version": "3.10.4"
  },
  "vscode": {
   "interpreter": {
    "hash": "9226d66c7dd53d9d6b36eba80b412e4a0dd5502575698f03b7bd215e602ec127"
   }
  }
 },
 "nbformat": 4,
 "nbformat_minor": 5
}
