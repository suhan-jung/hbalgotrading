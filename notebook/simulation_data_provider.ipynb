{
 "cells": [
  {
   "cell_type": "markdown",
   "metadata": {},
   "source": [
    "## eikon api를 활용하여 .py 구현 이전 기능 검증용 jupyter notebook"
   ]
  },
  {
   "cell_type": "code",
   "execution_count": null,
   "metadata": {},
   "outputs": [],
   "source": [
    "import os\n",
    "os.chdir('../')"
   ]
  },
  {
   "cell_type": "code",
   "execution_count": null,
   "metadata": {},
   "outputs": [],
   "source": [
    "print(\"현재 디렉토리 \" , os.getcwd())"
   ]
  },
  {
   "cell_type": "code",
   "execution_count": null,
   "metadata": {},
   "outputs": [],
   "source": [
    "import eikon as ek\n",
    "from dotenv import load_dotenv\n",
    "from hbalgo import DateConverter\n",
    "\n",
    "load_dotenv"
   ]
  },
  {
   "cell_type": "code",
   "execution_count": null,
   "metadata": {},
   "outputs": [],
   "source": [
    "APP_KEY = os.environ.get(\"EIKON_API_KEY\", \"eikon_api_key\")\n",
    "rics = \"10TBc1\"\n",
    "ek.set_app_key(APP_KEY)\n",
    "params = {\"rics\": \"10TBc1\"}\n"
   ]
  },
  {
   "cell_type": "code",
   "execution_count": null,
   "metadata": {},
   "outputs": [],
   "source": [
    "end = \"2022-11-01T13:01:01\"\n",
    "# params[\"end_date\"] = DateConverter.from_kst_to_utc_str(end)\n",
    "params[\"count\"] = 10\n",
    "params[\"interval\"] = \"minute\"\n",
    "response = ek.get_timeseries(**params)\n",
    "# response = ek.get_timeseries(asset, interval=\"minute\", count=10)\n",
    "response.index = response.index.tz_localize('UTC').tz_convert('Asia/Seoul').tz_localize(None)\n",
    "response.reset_index().to_dict(orient='records')"
   ]
  },
  {
   "cell_type": "code",
   "execution_count": null,
   "metadata": {},
   "outputs": [],
   "source": [
    "response"
   ]
  },
  {
   "cell_type": "code",
   "execution_count": null,
   "metadata": {},
   "outputs": [],
   "source": [
    "# response.index = response.index.tz_localize('UTC').tz_convert('Asia/Seoul')\n",
    "response.index = response.index.tz_localize('UTC').tz_convert('Asia/Seoul').tz_localize(None)\n",
    "response"
   ]
  },
  {
   "cell_type": "code",
   "execution_count": null,
   "metadata": {},
   "outputs": [],
   "source": [
    "response.reset_index().to_dict(orient='records')[0][\"Date\"]"
   ]
  },
  {
   "cell_type": "code",
   "execution_count": null,
   "metadata": {},
   "outputs": [],
   "source": []
  }
 ],
 "metadata": {
  "kernelspec": {
   "display_name": "Python 3.10.4 ('smtm')",
   "language": "python",
   "name": "python3"
  },
  "language_info": {
   "codemirror_mode": {
    "name": "ipython",
    "version": 3
   },
   "file_extension": ".py",
   "mimetype": "text/x-python",
   "name": "python",
   "nbconvert_exporter": "python",
   "pygments_lexer": "ipython3",
   "version": "3.10.4"
  },
  "vscode": {
   "interpreter": {
    "hash": "9226d66c7dd53d9d6b36eba80b412e4a0dd5502575698f03b7bd215e602ec127"
   }
  }
 },
 "nbformat": 4,
 "nbformat_minor": 2
}
