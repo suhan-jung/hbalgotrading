{
 "cells": [
  {
   "cell_type": "markdown",
   "metadata": {},
   "source": [
    "## eikon api를 활용하여 .py 구현 이전 기능 검증용 jupyter notebook"
   ]
  },
  {
   "cell_type": "code",
   "execution_count": 1,
   "metadata": {},
   "outputs": [
    {
     "ename": "ImportError",
     "evalue": "attempted relative import with no known parent package",
     "output_type": "error",
     "traceback": [
      "\u001b[1;31m---------------------------------------------------------------------------\u001b[0m",
      "\u001b[1;31mImportError\u001b[0m                               Traceback (most recent call last)",
      "\u001b[1;32md:\\MyProject\\hbalgotrading\\codes\\simulation_data_provider.ipynb Cell 2\u001b[0m in \u001b[0;36m<cell line: 4>\u001b[1;34m()\u001b[0m\n\u001b[0;32m      <a href='vscode-notebook-cell:/d%3A/MyProject/hbalgotrading/codes/simulation_data_provider.ipynb#W1sZmlsZQ%3D%3D?line=1'>2</a>\u001b[0m \u001b[39mimport\u001b[39;00m \u001b[39meikon\u001b[39;00m \u001b[39mas\u001b[39;00m \u001b[39mek\u001b[39;00m\n\u001b[0;32m      <a href='vscode-notebook-cell:/d%3A/MyProject/hbalgotrading/codes/simulation_data_provider.ipynb#W1sZmlsZQ%3D%3D?line=2'>3</a>\u001b[0m \u001b[39mfrom\u001b[39;00m \u001b[39mdotenv\u001b[39;00m \u001b[39mimport\u001b[39;00m load_dotenv\n\u001b[1;32m----> <a href='vscode-notebook-cell:/d%3A/MyProject/hbalgotrading/codes/simulation_data_provider.ipynb#W1sZmlsZQ%3D%3D?line=3'>4</a>\u001b[0m \u001b[39mfrom\u001b[39;00m \u001b[39m.\u001b[39;00m\u001b[39m.\u001b[39;00m\u001b[39mcodes\u001b[39;00m \u001b[39mimport\u001b[39;00m DateConverter\n\u001b[0;32m      <a href='vscode-notebook-cell:/d%3A/MyProject/hbalgotrading/codes/simulation_data_provider.ipynb#W1sZmlsZQ%3D%3D?line=6'>7</a>\u001b[0m load_dotenv\n",
      "\u001b[1;31mImportError\u001b[0m: attempted relative import with no known parent package"
     ]
    }
   ],
   "source": [
    "import os\n",
    "import eikon as ek\n",
    "from dotenv import load_dotenv\n",
    "from ..codes import DateConverter\n",
    "\n",
    "\n",
    "load_dotenv"
   ]
  },
  {
   "cell_type": "code",
   "execution_count": null,
   "metadata": {},
   "outputs": [],
   "source": [
    "APP_KEY = os.environ.get(\"EIKON_API_KEY\", \"eikon_api_key\")\n",
    "rics = \"10TBc1\"\n",
    "ek.set_app_key(APP_KEY)\n",
    "params = {\"rics\": \"10TBc1\"}\n"
   ]
  },
  {
   "cell_type": "code",
   "execution_count": null,
   "metadata": {},
   "outputs": [],
   "source": [
    "end = \"2022-11-01T13:01:01\"\n",
    "# params[\"end_date\"] = DateConverter.from_kst_to_utc_str(end)\n",
    "params[\"count\"] = 10\n",
    "params[\"interval\"] = \"minute\"\n",
    "response = ek.get_timeseries(**params)\n",
    "# response = ek.get_timeseries(asset, interval=\"minute\", count=10)\n",
    "response.index = response.index.tz_localize('UTC').tz_convert('Asia/Seoul').tz_localize(None)\n",
    "response.reset_index().to_dict(orient='records')"
   ]
  },
  {
   "cell_type": "code",
   "execution_count": null,
   "metadata": {},
   "outputs": [],
   "source": [
    "response"
   ]
  },
  {
   "cell_type": "code",
   "execution_count": null,
   "metadata": {},
   "outputs": [],
   "source": [
    "# response.index = response.index.tz_localize('UTC').tz_convert('Asia/Seoul')\n",
    "response.index = response.index.tz_localize('UTC').tz_convert('Asia/Seoul').tz_localize(None)\n",
    "response"
   ]
  },
  {
   "cell_type": "code",
   "execution_count": null,
   "metadata": {},
   "outputs": [],
   "source": [
    "response.reset_index().to_dict(orient='records')[0][\"Date\"]"
   ]
  },
  {
   "cell_type": "code",
   "execution_count": null,
   "metadata": {},
   "outputs": [],
   "source": []
  }
 ],
 "metadata": {
  "kernelspec": {
   "display_name": "Python 3.10.4 ('smtm')",
   "language": "python",
   "name": "python3"
  },
  "language_info": {
   "codemirror_mode": {
    "name": "ipython",
    "version": 3
   },
   "file_extension": ".py",
   "mimetype": "text/x-python",
   "name": "python",
   "nbconvert_exporter": "python",
   "pygments_lexer": "ipython3",
   "version": "3.10.4"
  },
  "orig_nbformat": 4,
  "vscode": {
   "interpreter": {
    "hash": "9226d66c7dd53d9d6b36eba80b412e4a0dd5502575698f03b7bd215e602ec127"
   }
  }
 },
 "nbformat": 4,
 "nbformat_minor": 2
}
